{
 "cells": [
  {
   "cell_type": "markdown",
   "id": "8c12c5d8",
   "metadata": {},
   "source": [
    "# Build a Movie Recommendation System Using Collaborative Filtering\n",
    "\n",
    "---"
   ]
  },
  {
   "cell_type": "markdown",
   "id": "5cafb4a7",
   "metadata": {},
   "source": [
    "## Outline\n",
    "\n",
    "1. Introuction\n",
    "2. Data Preparation & Cleaning\n",
    "   * Reading Data in Pandas\n",
    "   * Cleaning Movie Titles Using Regex\n",
    "   * Creating a TFIDF Matrix \n",
    "   * Creating a Search Function \n",
    "3. Building an Interactive Search Box in Jupyter \n",
    "4. Building a Recommendation System\n",
    "   * Finding Users Who Liked the Same Movie\n",
    "   * Determining How Much Users Like Movies\n",
    "   * Creating a Recommendation Score\n",
    "   * Building a Recommendation Function\n",
    "   * Creating an Interactive Recommendation Widget\n",
    "---"
   ]
  },
  {
   "cell_type": "markdown",
   "id": "6d8fcacd",
   "metadata": {},
   "source": [
    "## 1. Introuction\n"
   ]
  },
  {
   "cell_type": "markdown",
   "id": "80838f05",
   "metadata": {},
   "source": [
    "This project is going to build an interactive movie recommendation system that allows you to type in a movie name and immediately get ten recommendations for other movies you might want to watch. A recommendation engine to recommend movies based on a movie that we have watched."
   ]
  },
  {
   "cell_type": "code",
   "execution_count": 1,
   "id": "6def6806",
   "metadata": {},
   "outputs": [],
   "source": [
    "import numpy as np\n",
    "import pandas as pd\n",
    "import re\n",
    "from sklearn.feature_extraction.text import TfidfVectorizer\n",
    "from sklearn.metrics.pairwise import cosine_similarity\n",
    "import ipywidgets as widgets\n",
    "from IPython.display import display"
   ]
  },
  {
   "cell_type": "markdown",
   "id": "98bca929",
   "metadata": {},
   "source": [
    "## 2. Data Cleaning & Preparation "
   ]
  },
  {
   "cell_type": "markdown",
   "id": "21443462",
   "metadata": {},
   "source": [
    "### Reading Data in Pandas\n",
    "\n",
    "This dataset (ml-25m) describes 5-star rating and free-text tagging activity. It contains 25000095 ratings and 1093360 tag applications across 62423 movies. These data were created by 162541 users between January 09, 1995 and November 21, 2019. This dataset was generated on November 21, 2019.\n",
    "\n",
    "\n",
    "Dataset from [MovieLens](https://movielens.org)"
   ]
  },
  {
   "cell_type": "code",
   "execution_count": 2,
   "id": "b71bedf2",
   "metadata": {},
   "outputs": [
    {
     "data": {
      "text/html": [
       "<div>\n",
       "<style scoped>\n",
       "    .dataframe tbody tr th:only-of-type {\n",
       "        vertical-align: middle;\n",
       "    }\n",
       "\n",
       "    .dataframe tbody tr th {\n",
       "        vertical-align: top;\n",
       "    }\n",
       "\n",
       "    .dataframe thead th {\n",
       "        text-align: right;\n",
       "    }\n",
       "</style>\n",
       "<table border=\"1\" class=\"dataframe\">\n",
       "  <thead>\n",
       "    <tr style=\"text-align: right;\">\n",
       "      <th></th>\n",
       "      <th>movieId</th>\n",
       "      <th>title</th>\n",
       "      <th>genres</th>\n",
       "    </tr>\n",
       "  </thead>\n",
       "  <tbody>\n",
       "    <tr>\n",
       "      <th>0</th>\n",
       "      <td>1</td>\n",
       "      <td>Toy Story (1995)</td>\n",
       "      <td>Adventure|Animation|Children|Comedy|Fantasy</td>\n",
       "    </tr>\n",
       "    <tr>\n",
       "      <th>1</th>\n",
       "      <td>2</td>\n",
       "      <td>Jumanji (1995)</td>\n",
       "      <td>Adventure|Children|Fantasy</td>\n",
       "    </tr>\n",
       "    <tr>\n",
       "      <th>2</th>\n",
       "      <td>3</td>\n",
       "      <td>Grumpier Old Men (1995)</td>\n",
       "      <td>Comedy|Romance</td>\n",
       "    </tr>\n",
       "    <tr>\n",
       "      <th>3</th>\n",
       "      <td>4</td>\n",
       "      <td>Waiting to Exhale (1995)</td>\n",
       "      <td>Comedy|Drama|Romance</td>\n",
       "    </tr>\n",
       "    <tr>\n",
       "      <th>4</th>\n",
       "      <td>5</td>\n",
       "      <td>Father of the Bride Part II (1995)</td>\n",
       "      <td>Comedy</td>\n",
       "    </tr>\n",
       "  </tbody>\n",
       "</table>\n",
       "</div>"
      ],
      "text/plain": [
       "   movieId                               title  \\\n",
       "0        1                    Toy Story (1995)   \n",
       "1        2                      Jumanji (1995)   \n",
       "2        3             Grumpier Old Men (1995)   \n",
       "3        4            Waiting to Exhale (1995)   \n",
       "4        5  Father of the Bride Part II (1995)   \n",
       "\n",
       "                                        genres  \n",
       "0  Adventure|Animation|Children|Comedy|Fantasy  \n",
       "1                   Adventure|Children|Fantasy  \n",
       "2                               Comedy|Romance  \n",
       "3                         Comedy|Drama|Romance  \n",
       "4                                       Comedy  "
      ]
     },
     "execution_count": 2,
     "metadata": {},
     "output_type": "execute_result"
    }
   ],
   "source": [
    "movies=pd.read_csv(\"movies.csv\")\n",
    "movies.head()"
   ]
  },
  {
   "cell_type": "code",
   "execution_count": 3,
   "id": "7e97ce89",
   "metadata": {},
   "outputs": [
    {
     "data": {
      "text/plain": [
       "movieId     int64\n",
       "title      object\n",
       "genres     object\n",
       "dtype: object"
      ]
     },
     "execution_count": 3,
     "metadata": {},
     "output_type": "execute_result"
    }
   ],
   "source": [
    "movies.dtypes"
   ]
  },
  {
   "cell_type": "code",
   "execution_count": 4,
   "id": "143eadff",
   "metadata": {},
   "outputs": [
    {
     "data": {
      "text/html": [
       "<div>\n",
       "<style scoped>\n",
       "    .dataframe tbody tr th:only-of-type {\n",
       "        vertical-align: middle;\n",
       "    }\n",
       "\n",
       "    .dataframe tbody tr th {\n",
       "        vertical-align: top;\n",
       "    }\n",
       "\n",
       "    .dataframe thead th {\n",
       "        text-align: right;\n",
       "    }\n",
       "</style>\n",
       "<table border=\"1\" class=\"dataframe\">\n",
       "  <thead>\n",
       "    <tr style=\"text-align: right;\">\n",
       "      <th></th>\n",
       "      <th>userId</th>\n",
       "      <th>movieId</th>\n",
       "      <th>rating</th>\n",
       "      <th>timestamp</th>\n",
       "    </tr>\n",
       "  </thead>\n",
       "  <tbody>\n",
       "    <tr>\n",
       "      <th>0</th>\n",
       "      <td>1</td>\n",
       "      <td>296</td>\n",
       "      <td>5.0</td>\n",
       "      <td>1147880044</td>\n",
       "    </tr>\n",
       "    <tr>\n",
       "      <th>1</th>\n",
       "      <td>1</td>\n",
       "      <td>306</td>\n",
       "      <td>3.5</td>\n",
       "      <td>1147868817</td>\n",
       "    </tr>\n",
       "    <tr>\n",
       "      <th>2</th>\n",
       "      <td>1</td>\n",
       "      <td>307</td>\n",
       "      <td>5.0</td>\n",
       "      <td>1147868828</td>\n",
       "    </tr>\n",
       "    <tr>\n",
       "      <th>3</th>\n",
       "      <td>1</td>\n",
       "      <td>665</td>\n",
       "      <td>5.0</td>\n",
       "      <td>1147878820</td>\n",
       "    </tr>\n",
       "    <tr>\n",
       "      <th>4</th>\n",
       "      <td>1</td>\n",
       "      <td>899</td>\n",
       "      <td>3.5</td>\n",
       "      <td>1147868510</td>\n",
       "    </tr>\n",
       "  </tbody>\n",
       "</table>\n",
       "</div>"
      ],
      "text/plain": [
       "   userId  movieId  rating   timestamp\n",
       "0       1      296     5.0  1147880044\n",
       "1       1      306     3.5  1147868817\n",
       "2       1      307     5.0  1147868828\n",
       "3       1      665     5.0  1147878820\n",
       "4       1      899     3.5  1147868510"
      ]
     },
     "execution_count": 4,
     "metadata": {},
     "output_type": "execute_result"
    }
   ],
   "source": [
    "ratings=pd.read_csv(\"ratings.csv\")\n",
    "ratings.head()"
   ]
  },
  {
   "cell_type": "code",
   "execution_count": 5,
   "id": "c16ddeeb",
   "metadata": {},
   "outputs": [
    {
     "data": {
      "text/plain": [
       "(25000095, 4)"
      ]
     },
     "execution_count": 5,
     "metadata": {},
     "output_type": "execute_result"
    }
   ],
   "source": [
    "ratings.shape"
   ]
  },
  {
   "cell_type": "code",
   "execution_count": 6,
   "id": "ff7d3a85",
   "metadata": {},
   "outputs": [
    {
     "data": {
      "text/plain": [
       "162541"
      ]
     },
     "execution_count": 6,
     "metadata": {},
     "output_type": "execute_result"
    }
   ],
   "source": [
    "ratings[\"userId\"].unique().size"
   ]
  },
  {
   "cell_type": "code",
   "execution_count": 7,
   "id": "7231a4b7",
   "metadata": {},
   "outputs": [
    {
     "data": {
      "text/plain": [
       "userId         int64\n",
       "movieId        int64\n",
       "rating       float64\n",
       "timestamp      int64\n",
       "dtype: object"
      ]
     },
     "execution_count": 7,
     "metadata": {},
     "output_type": "execute_result"
    }
   ],
   "source": [
    "ratings.dtypes"
   ]
  },
  {
   "cell_type": "markdown",
   "id": "1d5ba1af",
   "metadata": {},
   "source": [
    "### Cleaning Movie Titles Using Regex\n",
    "Removing brackets in every title"
   ]
  },
  {
   "cell_type": "code",
   "execution_count": 8,
   "id": "ad18096b",
   "metadata": {},
   "outputs": [],
   "source": [
    "def clean_title(title):\n",
    "    new_title=re.sub(\"[^a-zA-Z0-9]\",\" \",title)\n",
    "    return new_title"
   ]
  },
  {
   "cell_type": "code",
   "execution_count": 9,
   "id": "bd81f563",
   "metadata": {},
   "outputs": [
    {
     "data": {
      "text/html": [
       "<div>\n",
       "<style scoped>\n",
       "    .dataframe tbody tr th:only-of-type {\n",
       "        vertical-align: middle;\n",
       "    }\n",
       "\n",
       "    .dataframe tbody tr th {\n",
       "        vertical-align: top;\n",
       "    }\n",
       "\n",
       "    .dataframe thead th {\n",
       "        text-align: right;\n",
       "    }\n",
       "</style>\n",
       "<table border=\"1\" class=\"dataframe\">\n",
       "  <thead>\n",
       "    <tr style=\"text-align: right;\">\n",
       "      <th></th>\n",
       "      <th>movieId</th>\n",
       "      <th>title</th>\n",
       "      <th>genres</th>\n",
       "      <th>clean_title</th>\n",
       "    </tr>\n",
       "  </thead>\n",
       "  <tbody>\n",
       "    <tr>\n",
       "      <th>0</th>\n",
       "      <td>1</td>\n",
       "      <td>Toy Story (1995)</td>\n",
       "      <td>Adventure|Animation|Children|Comedy|Fantasy</td>\n",
       "      <td>Toy Story  1995</td>\n",
       "    </tr>\n",
       "    <tr>\n",
       "      <th>1</th>\n",
       "      <td>2</td>\n",
       "      <td>Jumanji (1995)</td>\n",
       "      <td>Adventure|Children|Fantasy</td>\n",
       "      <td>Jumanji  1995</td>\n",
       "    </tr>\n",
       "    <tr>\n",
       "      <th>2</th>\n",
       "      <td>3</td>\n",
       "      <td>Grumpier Old Men (1995)</td>\n",
       "      <td>Comedy|Romance</td>\n",
       "      <td>Grumpier Old Men  1995</td>\n",
       "    </tr>\n",
       "    <tr>\n",
       "      <th>3</th>\n",
       "      <td>4</td>\n",
       "      <td>Waiting to Exhale (1995)</td>\n",
       "      <td>Comedy|Drama|Romance</td>\n",
       "      <td>Waiting to Exhale  1995</td>\n",
       "    </tr>\n",
       "    <tr>\n",
       "      <th>4</th>\n",
       "      <td>5</td>\n",
       "      <td>Father of the Bride Part II (1995)</td>\n",
       "      <td>Comedy</td>\n",
       "      <td>Father of the Bride Part II  1995</td>\n",
       "    </tr>\n",
       "  </tbody>\n",
       "</table>\n",
       "</div>"
      ],
      "text/plain": [
       "   movieId                               title  \\\n",
       "0        1                    Toy Story (1995)   \n",
       "1        2                      Jumanji (1995)   \n",
       "2        3             Grumpier Old Men (1995)   \n",
       "3        4            Waiting to Exhale (1995)   \n",
       "4        5  Father of the Bride Part II (1995)   \n",
       "\n",
       "                                        genres  \\\n",
       "0  Adventure|Animation|Children|Comedy|Fantasy   \n",
       "1                   Adventure|Children|Fantasy   \n",
       "2                               Comedy|Romance   \n",
       "3                         Comedy|Drama|Romance   \n",
       "4                                       Comedy   \n",
       "\n",
       "                          clean_title  \n",
       "0                    Toy Story  1995   \n",
       "1                      Jumanji  1995   \n",
       "2             Grumpier Old Men  1995   \n",
       "3            Waiting to Exhale  1995   \n",
       "4  Father of the Bride Part II  1995   "
      ]
     },
     "execution_count": 9,
     "metadata": {},
     "output_type": "execute_result"
    }
   ],
   "source": [
    "movies[\"clean_title\"]=movies[\"title\"].apply(clean_title)\n",
    "movies.head()"
   ]
  },
  {
   "cell_type": "markdown",
   "id": "74e39a4a",
   "metadata": {},
   "source": [
    "### Creating a TFIDF Matrix \n",
    "Instead of only looking at individual words in the title, I will also look at two consecutive words. This makes our search a more accurate. For example, looking at toy story in 1995, it's going to look at toy story together and story 1995 together as well."
   ]
  },
  {
   "cell_type": "code",
   "execution_count": 10,
   "id": "bf4c60cc",
   "metadata": {},
   "outputs": [],
   "source": [
    "vectorizer=TfidfVectorizer(ngram_range=(1,2))\n",
    "tfidf=vectorizer.fit_transform(movies[\"clean_title\"])"
   ]
  },
  {
   "cell_type": "markdown",
   "id": "75466ec4",
   "metadata": {},
   "source": [
    "### Creating a Search Function\n",
    "Creating a Search Function to compute the similarity between our search term and all the titles in our data. \n",
    "\n",
    "The function will then do the following:\n",
    "* Clean the title \n",
    "* Convert the title into a set of numbers \n",
    "* Use cosine_similarity to find the similarity between our search term and all the titles in our data \n",
    "* Return the five most similar titles to our search term"
   ]
  },
  {
   "cell_type": "code",
   "execution_count": 11,
   "id": "0ac2d6fe",
   "metadata": {},
   "outputs": [],
   "source": [
    "def search(title):\n",
    "    title = clean_title(title)\n",
    "    query_vec = vectorizer.transform([title])\n",
    "    similarity = cosine_similarity(query_vec, tfidf).flatten()\n",
    "    indices = np.argpartition(similarity, -5)[-5:]\n",
    "    results = movies.iloc[indices].iloc[::-1]\n",
    "    return results"
   ]
  },
  {
   "cell_type": "code",
   "execution_count": 12,
   "id": "69b869f6",
   "metadata": {},
   "outputs": [
    {
     "data": {
      "text/html": [
       "<div>\n",
       "<style scoped>\n",
       "    .dataframe tbody tr th:only-of-type {\n",
       "        vertical-align: middle;\n",
       "    }\n",
       "\n",
       "    .dataframe tbody tr th {\n",
       "        vertical-align: top;\n",
       "    }\n",
       "\n",
       "    .dataframe thead th {\n",
       "        text-align: right;\n",
       "    }\n",
       "</style>\n",
       "<table border=\"1\" class=\"dataframe\">\n",
       "  <thead>\n",
       "    <tr style=\"text-align: right;\">\n",
       "      <th></th>\n",
       "      <th>movieId</th>\n",
       "      <th>title</th>\n",
       "      <th>genres</th>\n",
       "      <th>clean_title</th>\n",
       "    </tr>\n",
       "  </thead>\n",
       "  <tbody>\n",
       "    <tr>\n",
       "      <th>14813</th>\n",
       "      <td>78499</td>\n",
       "      <td>Toy Story 3 (2010)</td>\n",
       "      <td>Adventure|Animation|Children|Comedy|Fantasy|IMAX</td>\n",
       "      <td>Toy Story 3  2010</td>\n",
       "    </tr>\n",
       "    <tr>\n",
       "      <th>3021</th>\n",
       "      <td>3114</td>\n",
       "      <td>Toy Story 2 (1999)</td>\n",
       "      <td>Adventure|Animation|Children|Comedy|Fantasy</td>\n",
       "      <td>Toy Story 2  1999</td>\n",
       "    </tr>\n",
       "    <tr>\n",
       "      <th>4823</th>\n",
       "      <td>4929</td>\n",
       "      <td>Toy, The (1982)</td>\n",
       "      <td>Comedy</td>\n",
       "      <td>Toy  The  1982</td>\n",
       "    </tr>\n",
       "    <tr>\n",
       "      <th>0</th>\n",
       "      <td>1</td>\n",
       "      <td>Toy Story (1995)</td>\n",
       "      <td>Adventure|Animation|Children|Comedy|Fantasy</td>\n",
       "      <td>Toy Story  1995</td>\n",
       "    </tr>\n",
       "    <tr>\n",
       "      <th>59767</th>\n",
       "      <td>201588</td>\n",
       "      <td>Toy Story 4 (2019)</td>\n",
       "      <td>Adventure|Animation|Children|Comedy</td>\n",
       "      <td>Toy Story 4  2019</td>\n",
       "    </tr>\n",
       "  </tbody>\n",
       "</table>\n",
       "</div>"
      ],
      "text/plain": [
       "       movieId               title  \\\n",
       "14813    78499  Toy Story 3 (2010)   \n",
       "3021      3114  Toy Story 2 (1999)   \n",
       "4823      4929     Toy, The (1982)   \n",
       "0            1    Toy Story (1995)   \n",
       "59767   201588  Toy Story 4 (2019)   \n",
       "\n",
       "                                                 genres         clean_title  \n",
       "14813  Adventure|Animation|Children|Comedy|Fantasy|IMAX  Toy Story 3  2010   \n",
       "3021        Adventure|Animation|Children|Comedy|Fantasy  Toy Story 2  1999   \n",
       "4823                                             Comedy     Toy  The  1982   \n",
       "0           Adventure|Animation|Children|Comedy|Fantasy    Toy Story  1995   \n",
       "59767               Adventure|Animation|Children|Comedy  Toy Story 4  2019   "
      ]
     },
     "execution_count": 12,
     "metadata": {},
     "output_type": "execute_result"
    }
   ],
   "source": [
    "search(\"toy\")"
   ]
  },
  {
   "cell_type": "markdown",
   "id": "b09763da",
   "metadata": {},
   "source": [
    "## 3. Building an Interactive Search Box in Jupyter"
   ]
  },
  {
   "cell_type": "code",
   "execution_count": 13,
   "id": "0e33fca2",
   "metadata": {},
   "outputs": [
    {
     "data": {
      "application/vnd.jupyter.widget-view+json": {
       "model_id": "e22f1664b39a424c84bcae6ac4fa5448",
       "version_major": 2,
       "version_minor": 0
      },
      "text/plain": [
       "Text(value='  ', description='Movie Title:')"
      ]
     },
     "metadata": {},
     "output_type": "display_data"
    },
    {
     "data": {
      "application/vnd.jupyter.widget-view+json": {
       "model_id": "67780bfc0b7a4298b525e1991223d4bc",
       "version_major": 2,
       "version_minor": 0
      },
      "text/plain": [
       "Output()"
      ]
     },
     "metadata": {},
     "output_type": "display_data"
    }
   ],
   "source": [
    "movie_input=widgets.Text(value=\"  \",description=\"Movie Title:\",disabled=False)\n",
    "movie_search=widgets.Output()\n",
    "def on_type(movie):\n",
    "    with movie_search:\n",
    "        movie_search.clear_output()\n",
    "        title=movie[\"new\"]\n",
    "        if len(title)>5:\n",
    "            display(search(title))\n",
    "movie_input.observe(on_type,names=\"value\")        \n",
    "        \n",
    "display(movie_input,movie_search)"
   ]
  },
  {
   "cell_type": "markdown",
   "id": "3a7436ca",
   "metadata": {},
   "source": [
    "## 4. Building a Recommendation System"
   ]
  },
  {
   "cell_type": "markdown",
   "id": "b51089b3",
   "metadata": {},
   "source": [
    "### Finding Users Who Liked the Same Movie\n",
    "\n",
    "\n",
    "Establish a threshold for recommendations:\n",
    "\n",
    "\n",
    "* Find the users who also liked the same movie we liked.\n",
    "* Find the other movies that they liked.\n",
    "* Find only the moives that more than 10% of similar users liked.\n",
    "\n"
   ]
  },
  {
   "cell_type": "code",
   "execution_count": 14,
   "id": "eea247d6",
   "metadata": {},
   "outputs": [],
   "source": [
    "#For example:toy story\n",
    "movieID=1"
   ]
  },
  {
   "cell_type": "code",
   "execution_count": 15,
   "id": "b9ed04c8",
   "metadata": {},
   "outputs": [
    {
     "data": {
      "text/plain": [
       "array([    36,     75,     86, ..., 162527, 162530, 162533])"
      ]
     },
     "execution_count": 15,
     "metadata": {},
     "output_type": "execute_result"
    }
   ],
   "source": [
    "#Find the users who also liked the same movie we liked \n",
    "samemovie_userid=ratings[(ratings[\"movieId\"]==movieID)&(ratings[\"rating\"]>4)][\"userId\"].unique()\n",
    "samemovie_userid"
   ]
  },
  {
   "cell_type": "code",
   "execution_count": 16,
   "id": "d81a9b2d",
   "metadata": {},
   "outputs": [
    {
     "data": {
      "text/plain": [
       "(18835,)"
      ]
     },
     "execution_count": 16,
     "metadata": {},
     "output_type": "execute_result"
    }
   ],
   "source": [
    "#We have 18835 people who also like toy story\n",
    "samemovie_userid.shape"
   ]
  },
  {
   "cell_type": "code",
   "execution_count": 17,
   "id": "c7eb0821",
   "metadata": {},
   "outputs": [
    {
     "data": {
      "text/plain": [
       "5101            1\n",
       "5105           34\n",
       "5111          110\n",
       "5114          150\n",
       "5127          260\n",
       "            ...  \n",
       "24998854    60069\n",
       "24998861    67997\n",
       "24998876    78499\n",
       "24998884    81591\n",
       "24998888    88129\n",
       "Name: movieId, Length: 1358326, dtype: int64"
      ]
     },
     "execution_count": 17,
     "metadata": {},
     "output_type": "execute_result"
    }
   ],
   "source": [
    "#Find the other movies that they liked \n",
    "otherlike_movieid=ratings[(ratings[\"userId\"].isin(samemovie_userid))&(ratings[\"rating\"]>4)][\"movieId\"]\n",
    "otherlike_movieid"
   ]
  },
  {
   "cell_type": "code",
   "execution_count": 18,
   "id": "3fcac493",
   "metadata": {},
   "outputs": [
    {
     "data": {
      "text/plain": [
       "1        1.000000\n",
       "318      0.445607\n",
       "260      0.403770\n",
       "356      0.370215\n",
       "296      0.367295\n",
       "           ...   \n",
       "953      0.103053\n",
       "551      0.101195\n",
       "1222     0.100876\n",
       "745      0.100345\n",
       "48780    0.100186\n",
       "Name: movieId, Length: 113, dtype: float64"
      ]
     },
     "execution_count": 18,
     "metadata": {},
     "output_type": "execute_result"
    }
   ],
   "source": [
    "#Find only the moives that more than 10% of similar users liked.\n",
    "otherlike_ratio=otherlike_movieid.value_counts()/len(samemovie_userid)\n",
    "otherlike_ratio=otherlike_ratio[otherlike_ratio>0.1]\n",
    "otherlike_ratio"
   ]
  },
  {
   "cell_type": "markdown",
   "id": "a9b7a1e7",
   "metadata": {},
   "source": [
    "### Determining How Much Users Like Movies\n",
    "\n",
    "* Find all users who rated a movie highly that is in our set of recommended movies\n",
    "* Find what percentage of all users recommend each of these movies\n"
   ]
  },
  {
   "cell_type": "code",
   "execution_count": 19,
   "id": "48b12652",
   "metadata": {},
   "outputs": [
    {
     "data": {
      "text/html": [
       "<div>\n",
       "<style scoped>\n",
       "    .dataframe tbody tr th:only-of-type {\n",
       "        vertical-align: middle;\n",
       "    }\n",
       "\n",
       "    .dataframe tbody tr th {\n",
       "        vertical-align: top;\n",
       "    }\n",
       "\n",
       "    .dataframe thead th {\n",
       "        text-align: right;\n",
       "    }\n",
       "</style>\n",
       "<table border=\"1\" class=\"dataframe\">\n",
       "  <thead>\n",
       "    <tr style=\"text-align: right;\">\n",
       "      <th></th>\n",
       "      <th>userId</th>\n",
       "      <th>movieId</th>\n",
       "      <th>rating</th>\n",
       "      <th>timestamp</th>\n",
       "    </tr>\n",
       "  </thead>\n",
       "  <tbody>\n",
       "    <tr>\n",
       "      <th>0</th>\n",
       "      <td>1</td>\n",
       "      <td>296</td>\n",
       "      <td>5.0</td>\n",
       "      <td>1147880044</td>\n",
       "    </tr>\n",
       "    <tr>\n",
       "      <th>29</th>\n",
       "      <td>1</td>\n",
       "      <td>4973</td>\n",
       "      <td>4.5</td>\n",
       "      <td>1147869080</td>\n",
       "    </tr>\n",
       "    <tr>\n",
       "      <th>48</th>\n",
       "      <td>1</td>\n",
       "      <td>7361</td>\n",
       "      <td>5.0</td>\n",
       "      <td>1147880055</td>\n",
       "    </tr>\n",
       "    <tr>\n",
       "      <th>72</th>\n",
       "      <td>2</td>\n",
       "      <td>110</td>\n",
       "      <td>5.0</td>\n",
       "      <td>1141416589</td>\n",
       "    </tr>\n",
       "    <tr>\n",
       "      <th>76</th>\n",
       "      <td>2</td>\n",
       "      <td>260</td>\n",
       "      <td>5.0</td>\n",
       "      <td>1141417172</td>\n",
       "    </tr>\n",
       "    <tr>\n",
       "      <th>...</th>\n",
       "      <td>...</td>\n",
       "      <td>...</td>\n",
       "      <td>...</td>\n",
       "      <td>...</td>\n",
       "    </tr>\n",
       "    <tr>\n",
       "      <th>25000062</th>\n",
       "      <td>162541</td>\n",
       "      <td>5618</td>\n",
       "      <td>4.5</td>\n",
       "      <td>1240953299</td>\n",
       "    </tr>\n",
       "    <tr>\n",
       "      <th>25000065</th>\n",
       "      <td>162541</td>\n",
       "      <td>5952</td>\n",
       "      <td>5.0</td>\n",
       "      <td>1240952617</td>\n",
       "    </tr>\n",
       "    <tr>\n",
       "      <th>25000078</th>\n",
       "      <td>162541</td>\n",
       "      <td>7153</td>\n",
       "      <td>5.0</td>\n",
       "      <td>1240952613</td>\n",
       "    </tr>\n",
       "    <tr>\n",
       "      <th>25000081</th>\n",
       "      <td>162541</td>\n",
       "      <td>7361</td>\n",
       "      <td>4.5</td>\n",
       "      <td>1240953484</td>\n",
       "    </tr>\n",
       "    <tr>\n",
       "      <th>25000090</th>\n",
       "      <td>162541</td>\n",
       "      <td>50872</td>\n",
       "      <td>4.5</td>\n",
       "      <td>1240953372</td>\n",
       "    </tr>\n",
       "  </tbody>\n",
       "</table>\n",
       "<p>1727573 rows × 4 columns</p>\n",
       "</div>"
      ],
      "text/plain": [
       "          userId  movieId  rating   timestamp\n",
       "0              1      296     5.0  1147880044\n",
       "29             1     4973     4.5  1147869080\n",
       "48             1     7361     5.0  1147880055\n",
       "72             2      110     5.0  1141416589\n",
       "76             2      260     5.0  1141417172\n",
       "...          ...      ...     ...         ...\n",
       "25000062  162541     5618     4.5  1240953299\n",
       "25000065  162541     5952     5.0  1240952617\n",
       "25000078  162541     7153     5.0  1240952613\n",
       "25000081  162541     7361     4.5  1240953484\n",
       "25000090  162541    50872     4.5  1240953372\n",
       "\n",
       "[1727573 rows x 4 columns]"
      ]
     },
     "execution_count": 19,
     "metadata": {},
     "output_type": "execute_result"
    }
   ],
   "source": [
    "#Find all users who rated a movie highly that is in our set of recommended movies\n",
    "all_userlike=ratings[(ratings[\"movieId\"].isin(otherlike_ratio.index))&(ratings[\"rating\"]>4)]\n",
    "all_userlike"
   ]
  },
  {
   "cell_type": "code",
   "execution_count": 20,
   "id": "8f291a6e",
   "metadata": {},
   "outputs": [
    {
     "data": {
      "text/plain": [
       "318      0.342220\n",
       "296      0.284674\n",
       "2571     0.244033\n",
       "356      0.235266\n",
       "593      0.225909\n",
       "           ...   \n",
       "551      0.040918\n",
       "50872    0.039111\n",
       "745      0.037031\n",
       "78499    0.035131\n",
       "2355     0.025091\n",
       "Name: movieId, Length: 113, dtype: float64"
      ]
     },
     "execution_count": 20,
     "metadata": {},
     "output_type": "execute_result"
    }
   ],
   "source": [
    "#Find what percentage of all users recommend each of these movies\n",
    "alluserlike_ratio=all_userlike[\"movieId\"].value_counts()/len(all_userlike[\"userId\"].unique())\n",
    "alluserlike_ratio"
   ]
  },
  {
   "cell_type": "markdown",
   "id": "6eeba56f",
   "metadata": {},
   "source": [
    "### Creating a Recommendation Score\n",
    "otherlike_ratio: Users Who Liked the Same Movie  \n",
    "alluserlike_ratio: How Much Users Like Movies  \n",
    "Let's compare them.  \n",
    "\n",
    "* Concatenate similar user recommendations and all user recommendations.\n",
    "* Create a score by dividing similar user recommendations by all user recommendations.\n",
    "* Sort the values to show highest values first.\n",
    "* Take the top 10 recommendations and merge them with movies data.\n"
   ]
  },
  {
   "cell_type": "code",
   "execution_count": 21,
   "id": "2b71dff6",
   "metadata": {},
   "outputs": [
    {
     "data": {
      "text/html": [
       "<div>\n",
       "<style scoped>\n",
       "    .dataframe tbody tr th:only-of-type {\n",
       "        vertical-align: middle;\n",
       "    }\n",
       "\n",
       "    .dataframe tbody tr th {\n",
       "        vertical-align: top;\n",
       "    }\n",
       "\n",
       "    .dataframe thead th {\n",
       "        text-align: right;\n",
       "    }\n",
       "</style>\n",
       "<table border=\"1\" class=\"dataframe\">\n",
       "  <thead>\n",
       "    <tr style=\"text-align: right;\">\n",
       "      <th></th>\n",
       "      <th>movieId</th>\n",
       "      <th>movieId</th>\n",
       "    </tr>\n",
       "  </thead>\n",
       "  <tbody>\n",
       "    <tr>\n",
       "      <th>1</th>\n",
       "      <td>1.000000</td>\n",
       "      <td>0.124728</td>\n",
       "    </tr>\n",
       "    <tr>\n",
       "      <th>318</th>\n",
       "      <td>0.445607</td>\n",
       "      <td>0.342220</td>\n",
       "    </tr>\n",
       "    <tr>\n",
       "      <th>260</th>\n",
       "      <td>0.403770</td>\n",
       "      <td>0.222207</td>\n",
       "    </tr>\n",
       "    <tr>\n",
       "      <th>356</th>\n",
       "      <td>0.370215</td>\n",
       "      <td>0.235266</td>\n",
       "    </tr>\n",
       "    <tr>\n",
       "      <th>296</th>\n",
       "      <td>0.367295</td>\n",
       "      <td>0.284674</td>\n",
       "    </tr>\n",
       "    <tr>\n",
       "      <th>...</th>\n",
       "      <td>...</td>\n",
       "      <td>...</td>\n",
       "    </tr>\n",
       "    <tr>\n",
       "      <th>953</th>\n",
       "      <td>0.103053</td>\n",
       "      <td>0.045792</td>\n",
       "    </tr>\n",
       "    <tr>\n",
       "      <th>551</th>\n",
       "      <td>0.101195</td>\n",
       "      <td>0.040918</td>\n",
       "    </tr>\n",
       "    <tr>\n",
       "      <th>1222</th>\n",
       "      <td>0.100876</td>\n",
       "      <td>0.066877</td>\n",
       "    </tr>\n",
       "    <tr>\n",
       "      <th>745</th>\n",
       "      <td>0.100345</td>\n",
       "      <td>0.037031</td>\n",
       "    </tr>\n",
       "    <tr>\n",
       "      <th>48780</th>\n",
       "      <td>0.100186</td>\n",
       "      <td>0.068314</td>\n",
       "    </tr>\n",
       "  </tbody>\n",
       "</table>\n",
       "<p>113 rows × 2 columns</p>\n",
       "</div>"
      ],
      "text/plain": [
       "        movieId   movieId\n",
       "1      1.000000  0.124728\n",
       "318    0.445607  0.342220\n",
       "260    0.403770  0.222207\n",
       "356    0.370215  0.235266\n",
       "296    0.367295  0.284674\n",
       "...         ...       ...\n",
       "953    0.103053  0.045792\n",
       "551    0.101195  0.040918\n",
       "1222   0.100876  0.066877\n",
       "745    0.100345  0.037031\n",
       "48780  0.100186  0.068314\n",
       "\n",
       "[113 rows x 2 columns]"
      ]
     },
     "execution_count": 21,
     "metadata": {},
     "output_type": "execute_result"
    }
   ],
   "source": [
    "#Concatenate similar user recommendations and all user recommendations.\n",
    "ratio_compare=pd.concat([otherlike_ratio, alluserlike_ratio], axis=1)\n",
    "ratio_compare"
   ]
  },
  {
   "cell_type": "code",
   "execution_count": 22,
   "id": "77513a7f",
   "metadata": {},
   "outputs": [
    {
     "data": {
      "text/html": [
       "<div>\n",
       "<style scoped>\n",
       "    .dataframe tbody tr th:only-of-type {\n",
       "        vertical-align: middle;\n",
       "    }\n",
       "\n",
       "    .dataframe tbody tr th {\n",
       "        vertical-align: top;\n",
       "    }\n",
       "\n",
       "    .dataframe thead th {\n",
       "        text-align: right;\n",
       "    }\n",
       "</style>\n",
       "<table border=\"1\" class=\"dataframe\">\n",
       "  <thead>\n",
       "    <tr style=\"text-align: right;\">\n",
       "      <th></th>\n",
       "      <th>similar_users</th>\n",
       "      <th>all_users</th>\n",
       "    </tr>\n",
       "  </thead>\n",
       "  <tbody>\n",
       "    <tr>\n",
       "      <th>1</th>\n",
       "      <td>1.000000</td>\n",
       "      <td>0.124728</td>\n",
       "    </tr>\n",
       "    <tr>\n",
       "      <th>318</th>\n",
       "      <td>0.445607</td>\n",
       "      <td>0.342220</td>\n",
       "    </tr>\n",
       "    <tr>\n",
       "      <th>260</th>\n",
       "      <td>0.403770</td>\n",
       "      <td>0.222207</td>\n",
       "    </tr>\n",
       "    <tr>\n",
       "      <th>356</th>\n",
       "      <td>0.370215</td>\n",
       "      <td>0.235266</td>\n",
       "    </tr>\n",
       "    <tr>\n",
       "      <th>296</th>\n",
       "      <td>0.367295</td>\n",
       "      <td>0.284674</td>\n",
       "    </tr>\n",
       "    <tr>\n",
       "      <th>...</th>\n",
       "      <td>...</td>\n",
       "      <td>...</td>\n",
       "    </tr>\n",
       "    <tr>\n",
       "      <th>953</th>\n",
       "      <td>0.103053</td>\n",
       "      <td>0.045792</td>\n",
       "    </tr>\n",
       "    <tr>\n",
       "      <th>551</th>\n",
       "      <td>0.101195</td>\n",
       "      <td>0.040918</td>\n",
       "    </tr>\n",
       "    <tr>\n",
       "      <th>1222</th>\n",
       "      <td>0.100876</td>\n",
       "      <td>0.066877</td>\n",
       "    </tr>\n",
       "    <tr>\n",
       "      <th>745</th>\n",
       "      <td>0.100345</td>\n",
       "      <td>0.037031</td>\n",
       "    </tr>\n",
       "    <tr>\n",
       "      <th>48780</th>\n",
       "      <td>0.100186</td>\n",
       "      <td>0.068314</td>\n",
       "    </tr>\n",
       "  </tbody>\n",
       "</table>\n",
       "<p>113 rows × 2 columns</p>\n",
       "</div>"
      ],
      "text/plain": [
       "       similar_users  all_users\n",
       "1           1.000000   0.124728\n",
       "318         0.445607   0.342220\n",
       "260         0.403770   0.222207\n",
       "356         0.370215   0.235266\n",
       "296         0.367295   0.284674\n",
       "...              ...        ...\n",
       "953         0.103053   0.045792\n",
       "551         0.101195   0.040918\n",
       "1222        0.100876   0.066877\n",
       "745         0.100345   0.037031\n",
       "48780       0.100186   0.068314\n",
       "\n",
       "[113 rows x 2 columns]"
      ]
     },
     "execution_count": 22,
     "metadata": {},
     "output_type": "execute_result"
    }
   ],
   "source": [
    "ratio_compare.columns=[\"similar_users\",\"all_users\"]\n",
    "ratio_compare"
   ]
  },
  {
   "cell_type": "code",
   "execution_count": 23,
   "id": "4214d86c",
   "metadata": {},
   "outputs": [
    {
     "data": {
      "text/html": [
       "<div>\n",
       "<style scoped>\n",
       "    .dataframe tbody tr th:only-of-type {\n",
       "        vertical-align: middle;\n",
       "    }\n",
       "\n",
       "    .dataframe tbody tr th {\n",
       "        vertical-align: top;\n",
       "    }\n",
       "\n",
       "    .dataframe thead th {\n",
       "        text-align: right;\n",
       "    }\n",
       "</style>\n",
       "<table border=\"1\" class=\"dataframe\">\n",
       "  <thead>\n",
       "    <tr style=\"text-align: right;\">\n",
       "      <th></th>\n",
       "      <th>similar_users</th>\n",
       "      <th>all_users</th>\n",
       "      <th>score</th>\n",
       "    </tr>\n",
       "  </thead>\n",
       "  <tbody>\n",
       "    <tr>\n",
       "      <th>1</th>\n",
       "      <td>1.000000</td>\n",
       "      <td>0.124728</td>\n",
       "      <td>8.017414</td>\n",
       "    </tr>\n",
       "    <tr>\n",
       "      <th>318</th>\n",
       "      <td>0.445607</td>\n",
       "      <td>0.342220</td>\n",
       "      <td>1.302105</td>\n",
       "    </tr>\n",
       "    <tr>\n",
       "      <th>260</th>\n",
       "      <td>0.403770</td>\n",
       "      <td>0.222207</td>\n",
       "      <td>1.817089</td>\n",
       "    </tr>\n",
       "    <tr>\n",
       "      <th>356</th>\n",
       "      <td>0.370215</td>\n",
       "      <td>0.235266</td>\n",
       "      <td>1.573604</td>\n",
       "    </tr>\n",
       "    <tr>\n",
       "      <th>296</th>\n",
       "      <td>0.367295</td>\n",
       "      <td>0.284674</td>\n",
       "      <td>1.290232</td>\n",
       "    </tr>\n",
       "    <tr>\n",
       "      <th>...</th>\n",
       "      <td>...</td>\n",
       "      <td>...</td>\n",
       "      <td>...</td>\n",
       "    </tr>\n",
       "    <tr>\n",
       "      <th>953</th>\n",
       "      <td>0.103053</td>\n",
       "      <td>0.045792</td>\n",
       "      <td>2.250441</td>\n",
       "    </tr>\n",
       "    <tr>\n",
       "      <th>551</th>\n",
       "      <td>0.101195</td>\n",
       "      <td>0.040918</td>\n",
       "      <td>2.473085</td>\n",
       "    </tr>\n",
       "    <tr>\n",
       "      <th>1222</th>\n",
       "      <td>0.100876</td>\n",
       "      <td>0.066877</td>\n",
       "      <td>1.508376</td>\n",
       "    </tr>\n",
       "    <tr>\n",
       "      <th>745</th>\n",
       "      <td>0.100345</td>\n",
       "      <td>0.037031</td>\n",
       "      <td>2.709748</td>\n",
       "    </tr>\n",
       "    <tr>\n",
       "      <th>48780</th>\n",
       "      <td>0.100186</td>\n",
       "      <td>0.068314</td>\n",
       "      <td>1.466543</td>\n",
       "    </tr>\n",
       "  </tbody>\n",
       "</table>\n",
       "<p>113 rows × 3 columns</p>\n",
       "</div>"
      ],
      "text/plain": [
       "       similar_users  all_users     score\n",
       "1           1.000000   0.124728  8.017414\n",
       "318         0.445607   0.342220  1.302105\n",
       "260         0.403770   0.222207  1.817089\n",
       "356         0.370215   0.235266  1.573604\n",
       "296         0.367295   0.284674  1.290232\n",
       "...              ...        ...       ...\n",
       "953         0.103053   0.045792  2.250441\n",
       "551         0.101195   0.040918  2.473085\n",
       "1222        0.100876   0.066877  1.508376\n",
       "745         0.100345   0.037031  2.709748\n",
       "48780       0.100186   0.068314  1.466543\n",
       "\n",
       "[113 rows x 3 columns]"
      ]
     },
     "execution_count": 23,
     "metadata": {},
     "output_type": "execute_result"
    }
   ],
   "source": [
    "#Create a score by dividing similar user recommendations by all user recommendations\n",
    "ratio_compare[\"score\"]=ratio_compare[\"similar_users\"]/ratio_compare[\"all_users\"]\n",
    "ratio_compare"
   ]
  },
  {
   "cell_type": "code",
   "execution_count": 24,
   "id": "4d16e267",
   "metadata": {},
   "outputs": [
    {
     "data": {
      "text/html": [
       "<div>\n",
       "<style scoped>\n",
       "    .dataframe tbody tr th:only-of-type {\n",
       "        vertical-align: middle;\n",
       "    }\n",
       "\n",
       "    .dataframe tbody tr th {\n",
       "        vertical-align: top;\n",
       "    }\n",
       "\n",
       "    .dataframe thead th {\n",
       "        text-align: right;\n",
       "    }\n",
       "</style>\n",
       "<table border=\"1\" class=\"dataframe\">\n",
       "  <thead>\n",
       "    <tr style=\"text-align: right;\">\n",
       "      <th></th>\n",
       "      <th>similar_users</th>\n",
       "      <th>all_users</th>\n",
       "      <th>score</th>\n",
       "      <th>movieId</th>\n",
       "      <th>title</th>\n",
       "      <th>genres</th>\n",
       "      <th>clean_title</th>\n",
       "    </tr>\n",
       "  </thead>\n",
       "  <tbody>\n",
       "    <tr>\n",
       "      <th>0</th>\n",
       "      <td>1.000000</td>\n",
       "      <td>0.124728</td>\n",
       "      <td>8.017414</td>\n",
       "      <td>1</td>\n",
       "      <td>Toy Story (1995)</td>\n",
       "      <td>Adventure|Animation|Children|Comedy|Fantasy</td>\n",
       "      <td>Toy Story  1995</td>\n",
       "    </tr>\n",
       "    <tr>\n",
       "      <th>3021</th>\n",
       "      <td>0.280648</td>\n",
       "      <td>0.053706</td>\n",
       "      <td>5.225654</td>\n",
       "      <td>3114</td>\n",
       "      <td>Toy Story 2 (1999)</td>\n",
       "      <td>Adventure|Animation|Children|Comedy|Fantasy</td>\n",
       "      <td>Toy Story 2  1999</td>\n",
       "    </tr>\n",
       "    <tr>\n",
       "      <th>2264</th>\n",
       "      <td>0.110539</td>\n",
       "      <td>0.025091</td>\n",
       "      <td>4.405452</td>\n",
       "      <td>2355</td>\n",
       "      <td>Bug's Life, A (1998)</td>\n",
       "      <td>Adventure|Animation|Children|Comedy</td>\n",
       "      <td>Bug s Life  A  1998</td>\n",
       "    </tr>\n",
       "    <tr>\n",
       "      <th>14813</th>\n",
       "      <td>0.152960</td>\n",
       "      <td>0.035131</td>\n",
       "      <td>4.354038</td>\n",
       "      <td>78499</td>\n",
       "      <td>Toy Story 3 (2010)</td>\n",
       "      <td>Adventure|Animation|Children|Comedy|Fantasy|IMAX</td>\n",
       "      <td>Toy Story 3  2010</td>\n",
       "    </tr>\n",
       "    <tr>\n",
       "      <th>4780</th>\n",
       "      <td>0.235147</td>\n",
       "      <td>0.070811</td>\n",
       "      <td>3.320783</td>\n",
       "      <td>4886</td>\n",
       "      <td>Monsters, Inc. (2001)</td>\n",
       "      <td>Adventure|Animation|Children|Comedy|Fantasy</td>\n",
       "      <td>Monsters  Inc   2001</td>\n",
       "    </tr>\n",
       "    <tr>\n",
       "      <th>580</th>\n",
       "      <td>0.216618</td>\n",
       "      <td>0.067513</td>\n",
       "      <td>3.208539</td>\n",
       "      <td>588</td>\n",
       "      <td>Aladdin (1992)</td>\n",
       "      <td>Adventure|Animation|Children|Comedy|Musical</td>\n",
       "      <td>Aladdin  1992</td>\n",
       "    </tr>\n",
       "    <tr>\n",
       "      <th>6258</th>\n",
       "      <td>0.228139</td>\n",
       "      <td>0.072268</td>\n",
       "      <td>3.156862</td>\n",
       "      <td>6377</td>\n",
       "      <td>Finding Nemo (2003)</td>\n",
       "      <td>Adventure|Animation|Children|Comedy</td>\n",
       "      <td>Finding Nemo  2003</td>\n",
       "    </tr>\n",
       "    <tr>\n",
       "      <th>587</th>\n",
       "      <td>0.179400</td>\n",
       "      <td>0.059977</td>\n",
       "      <td>2.991150</td>\n",
       "      <td>595</td>\n",
       "      <td>Beauty and the Beast (1991)</td>\n",
       "      <td>Animation|Children|Fantasy|Musical|Romance|IMAX</td>\n",
       "      <td>Beauty and the Beast  1991</td>\n",
       "    </tr>\n",
       "    <tr>\n",
       "      <th>8246</th>\n",
       "      <td>0.203504</td>\n",
       "      <td>0.068453</td>\n",
       "      <td>2.972889</td>\n",
       "      <td>8961</td>\n",
       "      <td>Incredibles, The (2004)</td>\n",
       "      <td>Action|Adventure|Animation|Children|Comedy</td>\n",
       "      <td>Incredibles  The  2004</td>\n",
       "    </tr>\n",
       "    <tr>\n",
       "      <th>359</th>\n",
       "      <td>0.253411</td>\n",
       "      <td>0.085764</td>\n",
       "      <td>2.954762</td>\n",
       "      <td>364</td>\n",
       "      <td>Lion King, The (1994)</td>\n",
       "      <td>Adventure|Animation|Children|Drama|Musical|IMAX</td>\n",
       "      <td>Lion King  The  1994</td>\n",
       "    </tr>\n",
       "  </tbody>\n",
       "</table>\n",
       "</div>"
      ],
      "text/plain": [
       "       similar_users  all_users     score  movieId  \\\n",
       "0           1.000000   0.124728  8.017414        1   \n",
       "3021        0.280648   0.053706  5.225654     3114   \n",
       "2264        0.110539   0.025091  4.405452     2355   \n",
       "14813       0.152960   0.035131  4.354038    78499   \n",
       "4780        0.235147   0.070811  3.320783     4886   \n",
       "580         0.216618   0.067513  3.208539      588   \n",
       "6258        0.228139   0.072268  3.156862     6377   \n",
       "587         0.179400   0.059977  2.991150      595   \n",
       "8246        0.203504   0.068453  2.972889     8961   \n",
       "359         0.253411   0.085764  2.954762      364   \n",
       "\n",
       "                             title  \\\n",
       "0                 Toy Story (1995)   \n",
       "3021            Toy Story 2 (1999)   \n",
       "2264          Bug's Life, A (1998)   \n",
       "14813           Toy Story 3 (2010)   \n",
       "4780         Monsters, Inc. (2001)   \n",
       "580                 Aladdin (1992)   \n",
       "6258           Finding Nemo (2003)   \n",
       "587    Beauty and the Beast (1991)   \n",
       "8246       Incredibles, The (2004)   \n",
       "359          Lion King, The (1994)   \n",
       "\n",
       "                                                 genres  \\\n",
       "0           Adventure|Animation|Children|Comedy|Fantasy   \n",
       "3021        Adventure|Animation|Children|Comedy|Fantasy   \n",
       "2264                Adventure|Animation|Children|Comedy   \n",
       "14813  Adventure|Animation|Children|Comedy|Fantasy|IMAX   \n",
       "4780        Adventure|Animation|Children|Comedy|Fantasy   \n",
       "580         Adventure|Animation|Children|Comedy|Musical   \n",
       "6258                Adventure|Animation|Children|Comedy   \n",
       "587     Animation|Children|Fantasy|Musical|Romance|IMAX   \n",
       "8246         Action|Adventure|Animation|Children|Comedy   \n",
       "359     Adventure|Animation|Children|Drama|Musical|IMAX   \n",
       "\n",
       "                       clean_title  \n",
       "0                 Toy Story  1995   \n",
       "3021            Toy Story 2  1999   \n",
       "2264          Bug s Life  A  1998   \n",
       "14813           Toy Story 3  2010   \n",
       "4780         Monsters  Inc   2001   \n",
       "580                 Aladdin  1992   \n",
       "6258           Finding Nemo  2003   \n",
       "587    Beauty and the Beast  1991   \n",
       "8246       Incredibles  The  2004   \n",
       "359          Lion King  The  1994   "
      ]
     },
     "execution_count": 24,
     "metadata": {},
     "output_type": "execute_result"
    }
   ],
   "source": [
    "ratio_compare.sort_values(\"score\",ascending=False).head(10).merge(movies,left_index=True,right_on=\"movieId\")"
   ]
  },
  {
   "cell_type": "code",
   "execution_count": 25,
   "id": "736d6c72",
   "metadata": {},
   "outputs": [
    {
     "data": {
      "text/html": [
       "<div>\n",
       "<style scoped>\n",
       "    .dataframe tbody tr th:only-of-type {\n",
       "        vertical-align: middle;\n",
       "    }\n",
       "\n",
       "    .dataframe tbody tr th {\n",
       "        vertical-align: top;\n",
       "    }\n",
       "\n",
       "    .dataframe thead th {\n",
       "        text-align: right;\n",
       "    }\n",
       "</style>\n",
       "<table border=\"1\" class=\"dataframe\">\n",
       "  <thead>\n",
       "    <tr style=\"text-align: right;\">\n",
       "      <th></th>\n",
       "      <th>score</th>\n",
       "      <th>title</th>\n",
       "      <th>genres</th>\n",
       "    </tr>\n",
       "  </thead>\n",
       "  <tbody>\n",
       "    <tr>\n",
       "      <th>0</th>\n",
       "      <td>8.017414</td>\n",
       "      <td>Toy Story (1995)</td>\n",
       "      <td>Adventure|Animation|Children|Comedy|Fantasy</td>\n",
       "    </tr>\n",
       "    <tr>\n",
       "      <th>3021</th>\n",
       "      <td>5.225654</td>\n",
       "      <td>Toy Story 2 (1999)</td>\n",
       "      <td>Adventure|Animation|Children|Comedy|Fantasy</td>\n",
       "    </tr>\n",
       "    <tr>\n",
       "      <th>2264</th>\n",
       "      <td>4.405452</td>\n",
       "      <td>Bug's Life, A (1998)</td>\n",
       "      <td>Adventure|Animation|Children|Comedy</td>\n",
       "    </tr>\n",
       "    <tr>\n",
       "      <th>14813</th>\n",
       "      <td>4.354038</td>\n",
       "      <td>Toy Story 3 (2010)</td>\n",
       "      <td>Adventure|Animation|Children|Comedy|Fantasy|IMAX</td>\n",
       "    </tr>\n",
       "    <tr>\n",
       "      <th>4780</th>\n",
       "      <td>3.320783</td>\n",
       "      <td>Monsters, Inc. (2001)</td>\n",
       "      <td>Adventure|Animation|Children|Comedy|Fantasy</td>\n",
       "    </tr>\n",
       "    <tr>\n",
       "      <th>580</th>\n",
       "      <td>3.208539</td>\n",
       "      <td>Aladdin (1992)</td>\n",
       "      <td>Adventure|Animation|Children|Comedy|Musical</td>\n",
       "    </tr>\n",
       "    <tr>\n",
       "      <th>6258</th>\n",
       "      <td>3.156862</td>\n",
       "      <td>Finding Nemo (2003)</td>\n",
       "      <td>Adventure|Animation|Children|Comedy</td>\n",
       "    </tr>\n",
       "    <tr>\n",
       "      <th>587</th>\n",
       "      <td>2.991150</td>\n",
       "      <td>Beauty and the Beast (1991)</td>\n",
       "      <td>Animation|Children|Fantasy|Musical|Romance|IMAX</td>\n",
       "    </tr>\n",
       "    <tr>\n",
       "      <th>8246</th>\n",
       "      <td>2.972889</td>\n",
       "      <td>Incredibles, The (2004)</td>\n",
       "      <td>Action|Adventure|Animation|Children|Comedy</td>\n",
       "    </tr>\n",
       "    <tr>\n",
       "      <th>359</th>\n",
       "      <td>2.954762</td>\n",
       "      <td>Lion King, The (1994)</td>\n",
       "      <td>Adventure|Animation|Children|Drama|Musical|IMAX</td>\n",
       "    </tr>\n",
       "  </tbody>\n",
       "</table>\n",
       "</div>"
      ],
      "text/plain": [
       "          score                        title  \\\n",
       "0      8.017414             Toy Story (1995)   \n",
       "3021   5.225654           Toy Story 2 (1999)   \n",
       "2264   4.405452         Bug's Life, A (1998)   \n",
       "14813  4.354038           Toy Story 3 (2010)   \n",
       "4780   3.320783        Monsters, Inc. (2001)   \n",
       "580    3.208539               Aladdin (1992)   \n",
       "6258   3.156862          Finding Nemo (2003)   \n",
       "587    2.991150  Beauty and the Beast (1991)   \n",
       "8246   2.972889      Incredibles, The (2004)   \n",
       "359    2.954762        Lion King, The (1994)   \n",
       "\n",
       "                                                 genres  \n",
       "0           Adventure|Animation|Children|Comedy|Fantasy  \n",
       "3021        Adventure|Animation|Children|Comedy|Fantasy  \n",
       "2264                Adventure|Animation|Children|Comedy  \n",
       "14813  Adventure|Animation|Children|Comedy|Fantasy|IMAX  \n",
       "4780        Adventure|Animation|Children|Comedy|Fantasy  \n",
       "580         Adventure|Animation|Children|Comedy|Musical  \n",
       "6258                Adventure|Animation|Children|Comedy  \n",
       "587     Animation|Children|Fantasy|Musical|Romance|IMAX  \n",
       "8246         Action|Adventure|Animation|Children|Comedy  \n",
       "359     Adventure|Animation|Children|Drama|Musical|IMAX  "
      ]
     },
     "execution_count": 25,
     "metadata": {},
     "output_type": "execute_result"
    }
   ],
   "source": [
    "ratio_compare.sort_values(\"score\",ascending=False).head(10).merge(movies,left_index=True,right_on=\"movieId\")[[\"score\",\"title\",\"genres\"]]"
   ]
  },
  {
   "cell_type": "markdown",
   "id": "14b748cd",
   "metadata": {},
   "source": [
    "### Building a Recommendation Function\n",
    "Determining How Much Users Like Movies\n",
    "Find all users who rated a movie highly that is in our set of recommended movies\n",
    "Find what percentage of all users recommend each of these movies"
   ]
  },
  {
   "cell_type": "code",
   "execution_count": 26,
   "id": "3a37990f",
   "metadata": {},
   "outputs": [],
   "source": [
    "def recommend_movies(movie_id):\n",
    "    #Finding Users Who Liked the Same Movie\n",
    "    samemovie_userid=ratings[(ratings[\"movieId\"]==movie_id)&(ratings[\"rating\"]>4)][\"userId\"].unique()\n",
    "    otherlike_movieid=ratings[ratings[\"userId\"].isin(samemovie_userid)&(ratings[\"rating\"]>4)][\"movieId\"]\n",
    "    otherlike_ratio=otherlike_movieid.value_counts()/len(samemovie_userid)\n",
    "    otherlike_ratio=otherlike_ratio[otherlike_ratio>0.1]\n",
    "    #Determining How Much Users Like Movies\n",
    "    all_userlike=ratings[(ratings[\"movieId\"].isin(otherlike_ratio.index))&(ratings[\"rating\"]>4)]\n",
    "    alluserlike_ratio=all_userlike[\"movieId\"].value_counts()/len(all_userlike[\"userId\"].unique())\n",
    "    #Creating a Recommendation Score\n",
    "    ratio_compare=pd.concat([otherlike_ratio,alluserlike_ratio],axis=1)\n",
    "    ratio_compare.columns=[\"similar_users\",\"all_users\"]\n",
    "    ratio_compare[\"score\"]=ratio_compare[\"similar_users\"]/ratio_compare[\"all_users\"]\n",
    "    movies_list=ratio_compare.sort_values(\"score\",ascending=False).head(10).merge(movies,left_index=True,right_on=\"movieId\")\n",
    "    return movies_list[[\"score\",\"title\",\"genres\"]]  "
   ]
  },
  {
   "cell_type": "code",
   "execution_count": 27,
   "id": "9b929222",
   "metadata": {},
   "outputs": [
    {
     "data": {
      "text/html": [
       "<div>\n",
       "<style scoped>\n",
       "    .dataframe tbody tr th:only-of-type {\n",
       "        vertical-align: middle;\n",
       "    }\n",
       "\n",
       "    .dataframe tbody tr th {\n",
       "        vertical-align: top;\n",
       "    }\n",
       "\n",
       "    .dataframe thead th {\n",
       "        text-align: right;\n",
       "    }\n",
       "</style>\n",
       "<table border=\"1\" class=\"dataframe\">\n",
       "  <thead>\n",
       "    <tr style=\"text-align: right;\">\n",
       "      <th></th>\n",
       "      <th>score</th>\n",
       "      <th>title</th>\n",
       "      <th>genres</th>\n",
       "    </tr>\n",
       "  </thead>\n",
       "  <tbody>\n",
       "    <tr>\n",
       "      <th>0</th>\n",
       "      <td>8.017414</td>\n",
       "      <td>Toy Story (1995)</td>\n",
       "      <td>Adventure|Animation|Children|Comedy|Fantasy</td>\n",
       "    </tr>\n",
       "    <tr>\n",
       "      <th>3021</th>\n",
       "      <td>5.225654</td>\n",
       "      <td>Toy Story 2 (1999)</td>\n",
       "      <td>Adventure|Animation|Children|Comedy|Fantasy</td>\n",
       "    </tr>\n",
       "    <tr>\n",
       "      <th>2264</th>\n",
       "      <td>4.405452</td>\n",
       "      <td>Bug's Life, A (1998)</td>\n",
       "      <td>Adventure|Animation|Children|Comedy</td>\n",
       "    </tr>\n",
       "    <tr>\n",
       "      <th>14813</th>\n",
       "      <td>4.354038</td>\n",
       "      <td>Toy Story 3 (2010)</td>\n",
       "      <td>Adventure|Animation|Children|Comedy|Fantasy|IMAX</td>\n",
       "    </tr>\n",
       "    <tr>\n",
       "      <th>4780</th>\n",
       "      <td>3.320783</td>\n",
       "      <td>Monsters, Inc. (2001)</td>\n",
       "      <td>Adventure|Animation|Children|Comedy|Fantasy</td>\n",
       "    </tr>\n",
       "    <tr>\n",
       "      <th>580</th>\n",
       "      <td>3.208539</td>\n",
       "      <td>Aladdin (1992)</td>\n",
       "      <td>Adventure|Animation|Children|Comedy|Musical</td>\n",
       "    </tr>\n",
       "    <tr>\n",
       "      <th>6258</th>\n",
       "      <td>3.156862</td>\n",
       "      <td>Finding Nemo (2003)</td>\n",
       "      <td>Adventure|Animation|Children|Comedy</td>\n",
       "    </tr>\n",
       "    <tr>\n",
       "      <th>587</th>\n",
       "      <td>2.991150</td>\n",
       "      <td>Beauty and the Beast (1991)</td>\n",
       "      <td>Animation|Children|Fantasy|Musical|Romance|IMAX</td>\n",
       "    </tr>\n",
       "    <tr>\n",
       "      <th>8246</th>\n",
       "      <td>2.972889</td>\n",
       "      <td>Incredibles, The (2004)</td>\n",
       "      <td>Action|Adventure|Animation|Children|Comedy</td>\n",
       "    </tr>\n",
       "    <tr>\n",
       "      <th>359</th>\n",
       "      <td>2.954762</td>\n",
       "      <td>Lion King, The (1994)</td>\n",
       "      <td>Adventure|Animation|Children|Drama|Musical|IMAX</td>\n",
       "    </tr>\n",
       "  </tbody>\n",
       "</table>\n",
       "</div>"
      ],
      "text/plain": [
       "          score                        title  \\\n",
       "0      8.017414             Toy Story (1995)   \n",
       "3021   5.225654           Toy Story 2 (1999)   \n",
       "2264   4.405452         Bug's Life, A (1998)   \n",
       "14813  4.354038           Toy Story 3 (2010)   \n",
       "4780   3.320783        Monsters, Inc. (2001)   \n",
       "580    3.208539               Aladdin (1992)   \n",
       "6258   3.156862          Finding Nemo (2003)   \n",
       "587    2.991150  Beauty and the Beast (1991)   \n",
       "8246   2.972889      Incredibles, The (2004)   \n",
       "359    2.954762        Lion King, The (1994)   \n",
       "\n",
       "                                                 genres  \n",
       "0           Adventure|Animation|Children|Comedy|Fantasy  \n",
       "3021        Adventure|Animation|Children|Comedy|Fantasy  \n",
       "2264                Adventure|Animation|Children|Comedy  \n",
       "14813  Adventure|Animation|Children|Comedy|Fantasy|IMAX  \n",
       "4780        Adventure|Animation|Children|Comedy|Fantasy  \n",
       "580         Adventure|Animation|Children|Comedy|Musical  \n",
       "6258                Adventure|Animation|Children|Comedy  \n",
       "587     Animation|Children|Fantasy|Musical|Romance|IMAX  \n",
       "8246         Action|Adventure|Animation|Children|Comedy  \n",
       "359     Adventure|Animation|Children|Drama|Musical|IMAX  "
      ]
     },
     "execution_count": 27,
     "metadata": {},
     "output_type": "execute_result"
    }
   ],
   "source": [
    "recommend_movies(1)"
   ]
  },
  {
   "cell_type": "markdown",
   "id": "c61cec47",
   "metadata": {},
   "source": [
    "### Creating an Interactive Recommendation Widget"
   ]
  },
  {
   "cell_type": "code",
   "execution_count": 28,
   "id": "5bf814b9",
   "metadata": {},
   "outputs": [
    {
     "data": {
      "application/vnd.jupyter.widget-view+json": {
       "model_id": "3ca37e18484f48688b8abb0762b3e93b",
       "version_major": 2,
       "version_minor": 0
      },
      "text/plain": [
       "Text(value='  ', description='Movie Title:')"
      ]
     },
     "metadata": {},
     "output_type": "display_data"
    },
    {
     "data": {
      "application/vnd.jupyter.widget-view+json": {
       "model_id": "c43dd71182f54f76843b3e514ee80090",
       "version_major": 2,
       "version_minor": 0
      },
      "text/plain": [
       "Output()"
      ]
     },
     "metadata": {},
     "output_type": "display_data"
    }
   ],
   "source": [
    "movie_input=widgets.Text(value=\"  \",description=\"Movie Title:\",disabled=False)\n",
    "movie_list=widgets.Output()\n",
    "\n",
    "def on_type(movie):\n",
    "    with movie_list:\n",
    "        movie_list.clear_output()\n",
    "        title=movie[\"new\"]\n",
    "        if len(title)>3:\n",
    "            results=search(title)\n",
    "            movie_id=results.iloc[0][\"movieId\"]\n",
    "            display(recommend_movies(movie_id))\n",
    "movie_input.observe(on_type,names=\"value\")        \n",
    "        \n",
    "display(movie_input,movie_list)"
   ]
  },
  {
   "cell_type": "markdown",
   "id": "01de5188",
   "metadata": {},
   "source": [
    "---"
   ]
  },
  {
   "cell_type": "markdown",
   "id": "fefc709c",
   "metadata": {},
   "source": [
    "## References\n",
    "https://reurl.cc/ymN4ra  \n",
    "https://reurl.cc/deklG8  \n",
    "https://grouplens.org/datasets/movielens/  \n",
    "https://movielens.org  "
   ]
  }
 ],
 "metadata": {
  "kernelspec": {
   "display_name": "Python 3 (ipykernel)",
   "language": "python",
   "name": "python3"
  },
  "language_info": {
   "codemirror_mode": {
    "name": "ipython",
    "version": 3
   },
   "file_extension": ".py",
   "mimetype": "text/x-python",
   "name": "python",
   "nbconvert_exporter": "python",
   "pygments_lexer": "ipython3",
   "version": "3.9.13"
  }
 },
 "nbformat": 4,
 "nbformat_minor": 5
}
